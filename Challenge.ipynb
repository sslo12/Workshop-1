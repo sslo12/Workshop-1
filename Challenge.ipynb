{
 "cells": [
  {
   "cell_type": "markdown",
   "metadata": {},
   "source": [
    "Connection database candidatesdb"
   ]
  },
  {
   "cell_type": "code",
   "execution_count": 2,
   "metadata": {},
   "outputs": [
    {
     "name": "stdout",
     "output_type": "stream",
     "text": [
      "Successful Connection\n"
     ]
    }
   ],
   "source": [
    "import configparser\n",
    "from sqlalchemy import create_engine\n",
    "import pandas as pd\n",
    "\n",
    "config = configparser.ConfigParser()\n",
    "config.read('config.ini')\n",
    "\n",
    "host = config['mysql']['host']\n",
    "user = config['mysql']['user']\n",
    "password = config['mysql']['password']\n",
    "database = config['mysql']['database']\n",
    "\n",
    "# Create the MySQL connection URL\n",
    "url_sql = f\"mysql+pymysql://{user}:{password}@{host}/{database}\"\n",
    "\n",
    "# Select the connetion database to work\n",
    "conn = create_engine(url_sql)\n",
    "print(\"Successful Connection\")"
   ]
  },
  {
   "cell_type": "markdown",
   "metadata": {},
   "source": [
    "NOTE: A candidate is considered hired if he has both scores greater than or equal to 7 So in each query I am going to place the condition."
   ]
  },
  {
   "cell_type": "markdown",
   "metadata": {},
   "source": [
    "1. Hiring by technology"
   ]
  },
  {
   "cell_type": "code",
   "execution_count": 15,
   "metadata": {},
   "outputs": [
    {
     "name": "stdout",
     "output_type": "stream",
     "text": [
      "Hiring by technology:\n",
      "\n",
      "                                 technology  hiring\n",
      "0                            Client Success     271\n",
      "1         Social Media Community Management     237\n",
      "2                     System Administration     293\n",
      "3                          Game Development     519\n",
      "4                                    Design     249\n",
      "5                  Adobe Experience Manager     282\n",
      "6                                    DevOps     495\n",
      "7                                  Security     266\n",
      "8   Business Analytics / Project Management     255\n",
      "9                       Security Compliance     250\n",
      "10                    Business Intelligence     254\n",
      "11               Development - CMS Frontend     251\n",
      "12                               Salesforce     256\n",
      "13                   Development - Frontend     266\n",
      "14                        Technical Writing     223\n",
      "15                                 Mulesoft     260\n",
      "16                            Data Engineer     255\n",
      "17                                QA Manual     259\n",
      "18                  Development - FullStack     254\n",
      "19                  Database Administration     282\n",
      "20                            QA Automation     243\n",
      "21                    Development - Backend     255\n",
      "22                                    Sales     239\n",
      "23                Development - CMS Backend     284\n"
     ]
    }
   ],
   "source": [
    "query_technology = \"\"\"\n",
    "SELECT technology, COUNT(*) AS hiring\n",
    "FROM candidates\n",
    "WHERE code_challenge_score >= 7 AND technical_interview_score >= 7\n",
    "GROUP BY technology\n",
    "\"\"\"\n",
    "df_technology = pd.read_sql(query_technology, conn)\n",
    "print(\"Hiring by technology:\\n\")\n",
    "print(df_technology)"
   ]
  },
  {
   "cell_type": "markdown",
   "metadata": {},
   "source": [
    "2. HIRING BY YEAR"
   ]
  },
  {
   "cell_type": "code",
   "execution_count": 14,
   "metadata": {},
   "outputs": [
    {
     "name": "stdout",
     "output_type": "stream",
     "text": [
      "\n",
      "Hires by year:\n",
      "\n",
      "   year  hiring\n",
      "0  2020    1485\n",
      "1  2018    1409\n",
      "2  2021    1485\n",
      "3  2022     795\n",
      "4  2019    1524\n"
     ]
    }
   ],
   "source": [
    "query_year = \"\"\"\n",
    "SELECT YEAR(application_date) AS year, COUNT(*) AS hiring\n",
    "FROM candidates\n",
    "WHERE code_challenge_score >= 7 AND technical_interview_score >= 7\n",
    "GROUP BY YEAR(application_date)\n",
    "\"\"\"\n",
    "df_year = pd.read_sql(query_year, conn)\n",
    "print(\"\\nHires by year:\\n\")\n",
    "print(df_year)"
   ]
  },
  {
   "cell_type": "markdown",
   "metadata": {},
   "source": [
    "3. HIRING BY YOE"
   ]
  },
  {
   "cell_type": "code",
   "execution_count": 16,
   "metadata": {},
   "outputs": [
    {
     "name": "stdout",
     "output_type": "stream",
     "text": [
      "\n",
      "Hiring by seniority:\n",
      "\n",
      "   seniority  hiring\n",
      "0  Mid-Level     924\n",
      "1       Lead     929\n",
      "2     Junior     977\n",
      "3     Senior     939\n",
      "4    Trainee     973\n",
      "5     Intern     985\n",
      "6  Architect     971\n"
     ]
    }
   ],
   "source": [
    "query_seniority = \"\"\"\n",
    "SELECT seniority, COUNT(*) AS hiring\n",
    "FROM candidates\n",
    "WHERE code_challenge_score >= 7 AND technical_interview_score >= 7\n",
    "GROUP BY seniority\n",
    "\"\"\"\n",
    "df_seniority = pd.read_sql(query_seniority, conn)\n",
    "print(\"\\nHiring by seniority:\\n\")\n",
    "print(df_seniority)"
   ]
  },
  {
   "cell_type": "markdown",
   "metadata": {},
   "source": [
    "4. HIRING BY YEAR AND COUNTRY"
   ]
  },
  {
   "cell_type": "code",
   "execution_count": 11,
   "metadata": {},
   "outputs": [
    {
     "name": "stdout",
     "output_type": "stream",
     "text": [
      "\n",
      " Hiring by country over the years\n",
      "(USA, Brazil, Colombia and Ecuador): \n",
      "\n",
      "                     country  year  hiring\n",
      "0                     Brazil  2018       9\n",
      "1                   Colombia  2018       7\n",
      "2                    Ecuador  2018       1\n",
      "3                    Ecuador  2020       8\n",
      "4                     Brazil  2019       7\n",
      "5   United States of America  2021       8\n",
      "6   United States of America  2018       5\n",
      "7                    Ecuador  2021       5\n",
      "8                   Colombia  2019       8\n",
      "9   United States of America  2019       3\n",
      "10                   Ecuador  2019       3\n",
      "11  United States of America  2022       5\n",
      "12                  Colombia  2020       8\n",
      "13                    Brazil  2020       6\n",
      "14                    Brazil  2022       4\n",
      "15                   Ecuador  2022       3\n",
      "16                  Colombia  2022       1\n",
      "17                    Brazil  2021       7\n",
      "18  United States of America  2020       4\n",
      "19                  Colombia  2021       1\n"
     ]
    }
   ],
   "source": [
    "query_country_year = \"\"\"\n",
    "SELECT country, YEAR(application_date) AS year, COUNT(*) AS hiring\n",
    "FROM candidates\n",
    "WHERE code_challenge_score >= 7 AND technical_interview_score >= 7\n",
    "AND country IN ('United States of America', 'Brazil', 'Colombia', 'Ecuador')\n",
    "GROUP BY country, YEAR(application_date)\n",
    "\"\"\"\n",
    "df_country_year = pd.read_sql(query_country_year, conn)\n",
    "print(\"\\n Hiring by country over the years\\n(USA, Brazil, Colombia and Ecuador): \\n\")\n",
    "print(df_country_year)\n",
    "\n",
    "conn.dispose()"
   ]
  }
 ],
 "metadata": {
  "kernelspec": {
   "display_name": "base",
   "language": "python",
   "name": "python3"
  },
  "language_info": {
   "codemirror_mode": {
    "name": "ipython",
    "version": 3
   },
   "file_extension": ".py",
   "mimetype": "text/x-python",
   "name": "python",
   "nbconvert_exporter": "python",
   "pygments_lexer": "ipython3",
   "version": "3.11.5"
  }
 },
 "nbformat": 4,
 "nbformat_minor": 2
}
