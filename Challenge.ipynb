{
 "cells": [
  {
   "cell_type": "markdown",
   "metadata": {},
   "source": [
    "Connection database candidatesdb"
   ]
  },
  {
   "cell_type": "code",
   "execution_count": 17,
   "metadata": {},
   "outputs": [
    {
     "name": "stdout",
     "output_type": "stream",
     "text": [
      "Successful Connection\n"
     ]
    }
   ],
   "source": [
    "import configparser\n",
    "from sqlalchemy import create_engine\n",
    "import pandas as pd\n",
    "\n",
    "config = configparser.ConfigParser()\n",
    "config.read('config.ini')\n",
    "\n",
    "host = config['mysql']['host']\n",
    "user = config['mysql']['user']\n",
    "password = config['mysql']['password']\n",
    "database = config['mysql']['database']\n",
    "\n",
    "# Create the MySQL connection URL\n",
    "url_sql = f\"mysql+pymysql://{user}:{password}@{host}/{database}\"\n",
    "\n",
    "# Select the connetion database to work\n",
    "conn = create_engine(url_sql)\n",
    "print(\"Successful Connection\")"
   ]
  },
  {
   "cell_type": "markdown",
   "metadata": {},
   "source": [
    "NOTE: A candidate is considered hired if he has both scores greater than or equal to 7 So in each query I am going to place the condition."
   ]
  },
  {
   "cell_type": "markdown",
   "metadata": {},
   "source": [
    "1. Hiring by technology"
   ]
  },
  {
   "cell_type": "code",
   "execution_count": 18,
   "metadata": {},
   "outputs": [
    {
     "name": "stdout",
     "output_type": "stream",
     "text": [
      "Hiring by technology:\n",
      "                                 technology  hiring\n",
      "0                            Client Success     271\n",
      "1         Social Media Community Management     237\n",
      "2                     System Administration     293\n",
      "3                          Game Development     519\n",
      "4                                    Design     249\n",
      "5                  Adobe Experience Manager     282\n",
      "6                                    DevOps     495\n",
      "7                                  Security     266\n",
      "8   Business Analytics / Project Management     255\n",
      "9                       Security Compliance     250\n",
      "10                    Business Intelligence     254\n",
      "11               Development - CMS Frontend     251\n",
      "12                               Salesforce     256\n",
      "13                   Development - Frontend     266\n",
      "14                        Technical Writing     223\n",
      "15                                 Mulesoft     260\n",
      "16                            Data Engineer     255\n",
      "17                                QA Manual     259\n",
      "18                  Development - FullStack     254\n",
      "19                  Database Administration     282\n",
      "20                            QA Automation     243\n",
      "21                    Development - Backend     255\n",
      "22                                    Sales     239\n",
      "23                Development - CMS Backend     284\n"
     ]
    }
   ],
   "source": [
    "query_technology = \"\"\"\n",
    "SELECT technology, COUNT(*) AS hiring\n",
    "FROM candidates\n",
    "WHERE code_challenge_score >= 7 AND technical_interview_score >= 7\n",
    "GROUP BY technology\n",
    "\"\"\"\n",
    "df_technology = pd.read_sql(query_technology, conn)\n",
    "print(\"Hiring by technology:\")\n",
    "print(df_technology)"
   ]
  },
  {
   "cell_type": "markdown",
   "metadata": {},
   "source": [
    "2. HIRING BY YEAR"
   ]
  },
  {
   "cell_type": "code",
   "execution_count": 19,
   "metadata": {},
   "outputs": [
    {
     "name": "stdout",
     "output_type": "stream",
     "text": [
      "\n",
      "Hires by year:\n",
      "   year  hiring\n",
      "0  2020    1485\n",
      "1  2018    1409\n",
      "2  2021    1485\n",
      "3  2022     795\n",
      "4  2019    1524\n"
     ]
    }
   ],
   "source": [
    "query_year = \"\"\"\n",
    "SELECT YEAR(application_date) AS year, COUNT(*) AS hiring\n",
    "FROM candidates\n",
    "WHERE code_challenge_score >= 7 AND technical_interview_score >= 7\n",
    "GROUP BY YEAR(application_date)\n",
    "\"\"\"\n",
    "df_year = pd.read_sql(query_year, conn)\n",
    "print(\"\\nHires by year:\")\n",
    "print(df_year)"
   ]
  },
  {
   "cell_type": "markdown",
   "metadata": {},
   "source": [
    "3. HIRING BY YOE"
   ]
  },
  {
   "cell_type": "code",
   "execution_count": 20,
   "metadata": {},
   "outputs": [
    {
     "name": "stdout",
     "output_type": "stream",
     "text": [
      "\n",
      "Hiring by seniority:\n",
      "   yoe  hiring\n",
      "0    4     221\n",
      "1   13     208\n",
      "2   18     241\n",
      "3   16     212\n",
      "4   14     219\n",
      "5    5     233\n",
      "6    9     211\n",
      "7   11     231\n",
      "8   30     231\n",
      "9   19     225\n",
      "10   7     218\n",
      "11  10     206\n",
      "12   2     234\n",
      "13   3     198\n",
      "14   1     223\n",
      "15  25     222\n",
      "16  12     213\n",
      "17  24     241\n",
      "18  29     217\n",
      "19   8     206\n",
      "20  20     213\n",
      "21  26     246\n",
      "22  15     237\n",
      "23  28     216\n",
      "24  23     215\n",
      "25   0     117\n",
      "26  17     206\n",
      "27  21     193\n",
      "28  22     231\n",
      "29  27     200\n",
      "30   6     214\n"
     ]
    }
   ],
   "source": [
    "query_seniority = \"\"\"\n",
    "SELECT yoe, COUNT(*) AS hiring\n",
    "FROM candidates\n",
    "WHERE code_challenge_score >= 7 AND technical_interview_score >= 7\n",
    "GROUP BY yoe\n",
    "\"\"\"\n",
    "df_seniority = pd.read_sql(query_seniority, conn)\n",
    "print(\"\\nHiring by seniority:\")\n",
    "print(df_seniority)"
   ]
  },
  {
   "cell_type": "markdown",
   "metadata": {},
   "source": [
    "4. HIRING BY YEAR AND COUNTRY"
   ]
  },
  {
   "cell_type": "code",
   "execution_count": 21,
   "metadata": {},
   "outputs": [
    {
     "name": "stdout",
     "output_type": "stream",
     "text": [
      "\n",
      "Hiring by country over the years (USA, Brazil, Colombia and Ecuador):\n",
      "     country  year  hiring\n",
      "0     Brazil  2018       9\n",
      "1   Colombia  2018       7\n",
      "2    Ecuador  2018       1\n",
      "3    Ecuador  2020       8\n",
      "4     Brazil  2019       7\n",
      "5    Ecuador  2021       5\n",
      "6   Colombia  2019       8\n",
      "7    Ecuador  2019       3\n",
      "8   Colombia  2020       8\n",
      "9     Brazil  2020       6\n",
      "10    Brazil  2022       4\n",
      "11   Ecuador  2022       3\n",
      "12  Colombia  2022       1\n",
      "13    Brazil  2021       7\n",
      "14  Colombia  2021       1\n"
     ]
    }
   ],
   "source": [
    "query_country_year = \"\"\"\n",
    "SELECT country, YEAR(application_date) AS year, COUNT(*) AS hiring\n",
    "FROM candidates\n",
    "WHERE code_challenge_score >= 7 AND technical_interview_score >= 7\n",
    "AND country IN ('USA', 'Brazil', 'Colombia', 'Ecuador')\n",
    "GROUP BY country, YEAR(application_date)\n",
    "\"\"\"\n",
    "df_country_year = pd.read_sql(query_country_year, conn)\n",
    "print(\"\\nHiring by country over the years (USA, Brazil, Colombia and Ecuador):\")\n",
    "print(df_country_year)\n",
    "\n",
    "conn.dispose()"
   ]
  }
 ],
 "metadata": {
  "kernelspec": {
   "display_name": "base",
   "language": "python",
   "name": "python3"
  },
  "language_info": {
   "codemirror_mode": {
    "name": "ipython",
    "version": 3
   },
   "file_extension": ".py",
   "mimetype": "text/x-python",
   "name": "python",
   "nbconvert_exporter": "python",
   "pygments_lexer": "ipython3",
   "version": "3.11.5"
  }
 },
 "nbformat": 4,
 "nbformat_minor": 2
}
