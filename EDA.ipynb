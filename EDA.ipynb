{
 "cells": [
  {
   "cell_type": "markdown",
   "metadata": {},
   "source": [
    "CONNECTION DATABASE CANDIDATES"
   ]
  },
  {
   "cell_type": "code",
   "execution_count": 1,
   "metadata": {},
   "outputs": [
    {
     "name": "stdout",
     "output_type": "stream",
     "text": [
      "Successful connection\n"
     ]
    }
   ],
   "source": [
    "import configparser\n",
    "import pymysql\n",
    "import pandas as pd\n",
    "\n",
    "config = configparser.ConfigParser()\n",
    "config.read('configdb.ini')\n",
    "\n",
    "host = config['mysql']['host']\n",
    "user = config['mysql']['user']\n",
    "password = config['mysql']['password']\n",
    "\n",
    "#Conexión a la base de datos\n",
    "conn = pymysql.connect(\n",
    "    host=host,\n",
    "    user=user,\n",
    "    password=password\n",
    ")\n",
    "\n",
    "print(\"Successful connection\")\n",
    "cursor = conn.cursor()"
   ]
  },
  {
   "cell_type": "code",
   "execution_count": 2,
   "metadata": {},
   "outputs": [
    {
     "name": "stderr",
     "output_type": "stream",
     "text": [
      "C:\\Users\\USER\\AppData\\Local\\Temp\\ipykernel_14932\\3328468079.py:5: UserWarning: pandas only supports SQLAlchemy connectable (engine/connection) or database string URI or sqlite3 DBAPI2 connection. Other DBAPI2 objects are not tested. Please consider using SQLAlchemy.\n",
      "  df_candidates = pd.read_sql(query_SQL, conn)\n"
     ]
    }
   ],
   "source": [
    "cursor.execute(\"USE candidates\")\n",
    "query_SQL = \"SELECT * FROM candidates\"\n",
    "\n",
    "# Usar Pandas para ejecutar la consulta y cargar los resultados en un DataFrame\n",
    "df_candidates = pd.read_sql(query_SQL, conn)\n",
    "\n",
    "# Cerrar la conexión\n",
    "conn.close()\n",
    "#print(df_candidates)\n"
   ]
  },
  {
   "cell_type": "markdown",
   "metadata": {},
   "source": [
    "ANALISYS DATAFRAME CANDIDATES (EDA)"
   ]
  },
  {
   "cell_type": "code",
   "execution_count": 13,
   "metadata": {},
   "outputs": [
    {
     "name": "stdout",
     "output_type": "stream",
     "text": [
      "   id  first_name   last_name                      email application_date  \\\n",
      "0   1  Bernadette   Langworth        leonard91@yahoo.com       2021-02-26   \n",
      "1   2      Camryn    Reynolds        zelda56@hotmail.com       2021-09-09   \n",
      "2   3       Larue      Spinka   okey_schultz41@gmail.com       2020-04-14   \n",
      "3   4        Arch      Spinka     elvera_kulas@yahoo.com       2020-10-01   \n",
      "4   5       Larue  Altenwerth  minnie.gislason@gmail.com       2020-05-20   \n",
      "\n",
      "   country yoe  seniority                         technology  \\\n",
      "0   Norway   2     Intern                      Data Engineer   \n",
      "1   Panama  10     Intern                      Data Engineer   \n",
      "2  Belarus   4  Mid-Level                     Client Success   \n",
      "3  Eritrea  25    Trainee                          QA Manual   \n",
      "4  Myanmar  13  Mid-Level  Social Media Community Management   \n",
      "\n",
      "   code_challenge_score  technical_interview_score  \n",
      "0                     3                          3  \n",
      "1                     2                         10  \n",
      "2                    10                          9  \n",
      "3                     7                          1  \n",
      "4                     9                          7  \n"
     ]
    }
   ],
   "source": [
    "#Mostrar las primeras filas del dataframe\n",
    "print(df_candidates.head())"
   ]
  },
  {
   "cell_type": "code",
   "execution_count": 3,
   "metadata": {},
   "outputs": [
    {
     "name": "stdout",
     "output_type": "stream",
     "text": [
      "<class 'pandas.core.frame.DataFrame'>\n",
      "RangeIndex: 50000 entries, 0 to 49999\n",
      "Data columns (total 11 columns):\n",
      " #   Column                     Non-Null Count  Dtype \n",
      "---  ------                     --------------  ----- \n",
      " 0   id                         50000 non-null  int64 \n",
      " 1   first_name                 50000 non-null  object\n",
      " 2   last_name                  50000 non-null  object\n",
      " 3   email                      50000 non-null  object\n",
      " 4   application_date           50000 non-null  object\n",
      " 5   country                    50000 non-null  object\n",
      " 6   yoe                        50000 non-null  object\n",
      " 7   seniority                  50000 non-null  object\n",
      " 8   technology                 50000 non-null  object\n",
      " 9   code_challenge_score       50000 non-null  int64 \n",
      " 10  technical_interview_score  50000 non-null  int64 \n",
      "dtypes: int64(3), object(8)\n",
      "memory usage: 4.2+ MB\n",
      "None\n"
     ]
    }
   ],
   "source": [
    "#Obterner información del DataFrame candidates\n",
    "print(df_candidates.info())"
   ]
  },
  {
   "cell_type": "code",
   "execution_count": 12,
   "metadata": {},
   "outputs": [
    {
     "name": "stdout",
     "output_type": "stream",
     "text": [
      "          id  code_challenge_score  technical_interview_score\n",
      "count  50000                 50000                      50000\n",
      "mean   25000                     4                          5\n",
      "std    14433                     3                          3\n",
      "min        1                     0                          0\n",
      "25%    12500                     2                          2\n",
      "50%    25000                     5                          5\n",
      "75%    37500                     8                          8\n",
      "max    50000                    10                         10\n"
     ]
    }
   ],
   "source": [
    "#Agrupar y resumir datos del dataFrame candidates\n",
    "print(df_candidates.describe().astype(int))\n"
   ]
  },
  {
   "cell_type": "code",
   "execution_count": 6,
   "metadata": {},
   "outputs": [
    {
     "name": "stdout",
     "output_type": "stream",
     "text": [
      "Numero de valores nulos: \n",
      "\n",
      "id                           0\n",
      "first_name                   0\n",
      "last_name                    0\n",
      "email                        0\n",
      "application_date             0\n",
      "country                      0\n",
      "yoe                          0\n",
      "seniority                    0\n",
      "technology                   0\n",
      "code_challenge_score         0\n",
      "technical_interview_score    0\n",
      "dtype: int64\n"
     ]
    }
   ],
   "source": [
    "print(f\"Numero de valores nulos: \\n\\n{df_candidates.isna().sum()}\")\n"
   ]
  }
 ],
 "metadata": {
  "kernelspec": {
   "display_name": "base",
   "language": "python",
   "name": "python3"
  },
  "language_info": {
   "codemirror_mode": {
    "name": "ipython",
    "version": 3
   },
   "file_extension": ".py",
   "mimetype": "text/x-python",
   "name": "python",
   "nbconvert_exporter": "python",
   "pygments_lexer": "ipython3",
   "version": "3.11.5"
  }
 },
 "nbformat": 4,
 "nbformat_minor": 2
}
