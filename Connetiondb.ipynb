{
 "cells": [
  {
   "cell_type": "markdown",
   "id": "457ee60a",
   "metadata": {},
   "source": [
    "CONNECTION TO MySQL DATABASE"
   ]
  },
  {
   "cell_type": "code",
   "execution_count": 3,
   "id": "abfab029",
   "metadata": {},
   "outputs": [
    {
     "name": "stdout",
     "output_type": "stream",
     "text": [
      "Successful connection\n"
     ]
    }
   ],
   "source": [
    "import configparser\n",
    "import pymysql\n",
    "import csv\n",
    "\n",
    "config = configparser.ConfigParser()\n",
    "config.read('configdb.ini')\n",
    "\n",
    "host = config['mysql']['host']\n",
    "user = config['mysql']['user']\n",
    "password = config['mysql']['password']\n",
    "\n",
    "#Conexión a la base de datos\n",
    "conn = pymysql.connect(\n",
    "    host=host,\n",
    "    user=user,\n",
    "    password=password\n",
    ")\n",
    "\n",
    "print(\"Successful connection\")\n",
    "cursor = conn.cursor()"
   ]
  },
  {
   "cell_type": "markdown",
   "id": "5a36a5d6",
   "metadata": {},
   "source": [
    "CREATE THE TABLE AND COPY THE DATA OF CSV"
   ]
  },
  {
   "cell_type": "code",
   "execution_count": 4,
   "id": "fba42cda",
   "metadata": {},
   "outputs": [
    {
     "name": "stdout",
     "output_type": "stream",
     "text": [
      "The data was successfully inserted into the database\n"
     ]
    }
   ],
   "source": [
    "# Crear la tabla si no existe\n",
    "cursor.execute(\"CREATE DATABASE IF NOT EXISTS candidates\")\n",
    "# Seleccionar la base de datos\n",
    "cursor.execute(f\"USE candidates\")\n",
    "\n",
    "# Crear la tabla si no  EN LA BASE DE DATOS\n",
    "cursor.execute(\"\"\"\n",
    "CREATE TABLE candidates (\n",
    "    id INT NOT NULL AUTO_INCREMENT PRIMARY KEY,\n",
    "    first_name VARCHAR(50) NOT NULL,\n",
    "    last_name VARCHAR(50),\n",
    "    email VARCHAR(50) NOT NULL,\n",
    "    application_date DATE NOT NULL,\n",
    "    country VARCHAR(250) NOT NULL,\n",
    "    yoe VARCHAR(50) NOT NULL,\n",
    "    seniority VARCHAR(50) NOT NULL,\n",
    "    technology VARCHAR(50) NOT NULL,\n",
    "    code_challenge_score INT NOT NULL DEFAULT 0,\n",
    "    technical_interview_score INT NOT NULL DEFAULT 0)\n",
    "\"\"\")\n",
    "\n",
    "# Leer el archivo CSV línea por línea y copiarlo en la tabla\n",
    "with open('candidates.csv', 'r') as csvfile:\n",
    "    next(csvfile)  # Omitir la primera fila (encabezados de columna)\n",
    "    for line in csvfile:\n",
    "        # Eliminar los espacios en blanco y dividir la línea en campos\n",
    "        first_name, last_name, email, application_date, country, yoe, seniority, technology, code_challenge_score, technical_interview_score = line.strip().split(';')\n",
    "        \n",
    "        # Ejecutar una consulta SQL para insertar los datos en la tabla candidates\n",
    "        sql = \"\"\" \n",
    "        INSERT INTO candidates \n",
    "        (first_name, last_name, email, application_date, country, yoe, seniority, technology, code_challenge_score, technical_interview_score)\n",
    "        VALUES (%s, %s, %s, %s, %s, %s, %s, %s, %s, %s)\n",
    "        \"\"\"\n",
    "        cursor.execute(sql, (first_name, last_name, email, application_date, country, yoe, seniority, technology, code_challenge_score, technical_interview_score))\n",
    "\n",
    "print(\"The data was successfully inserted into the database\")\n",
    "# Confirmar los cambios\n",
    "conn.commit()\n",
    "# Cerrar la conexión\n",
    "conn.close()"
   ]
  }
 ],
 "metadata": {
  "kernelspec": {
   "display_name": "Python 3 (ipykernel)",
   "language": "python",
   "name": "python3"
  },
  "language_info": {
   "codemirror_mode": {
    "name": "ipython",
    "version": 3
   },
   "file_extension": ".py",
   "mimetype": "text/x-python",
   "name": "python",
   "nbconvert_exporter": "python",
   "pygments_lexer": "ipython3",
   "version": "3.11.5"
  }
 },
 "nbformat": 4,
 "nbformat_minor": 5
}
