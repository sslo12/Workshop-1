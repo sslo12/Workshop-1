{
 "cells": [
  {
   "cell_type": "markdown",
   "id": "457ee60a",
   "metadata": {},
   "source": [
    "Connection to MySQL"
   ]
  },
  {
   "cell_type": "code",
   "execution_count": 1,
   "id": "abfab029",
   "metadata": {},
   "outputs": [
    {
     "name": "stdout",
     "output_type": "stream",
     "text": [
      "Successful Connection\n"
     ]
    }
   ],
   "source": [
    "import configparser\n",
    "import pymysql\n",
    "import csv\n",
    "\n",
    "config = configparser.ConfigParser()\n",
    "config.read('config.ini')\n",
    "host = config['mysql']['host']\n",
    "user = config['mysql']['user']\n",
    "password = config['mysql']['password']\n",
    "\n",
    "conn = pymysql.connect(\n",
    "    host=host,\n",
    "    user=user,\n",
    "    password=password\n",
    ")\n",
    "print(\"Successful Connection\")\n",
    "cursor = conn.cursor()"
   ]
  },
  {
   "cell_type": "markdown",
   "id": "5a36a5d6",
   "metadata": {},
   "source": [
    "Create the table and copy the data of csv"
   ]
  },
  {
   "cell_type": "code",
   "execution_count": 2,
   "id": "fba42cda",
   "metadata": {},
   "outputs": [],
   "source": [
    "cursor.execute(\"CREATE DATABASE IF NOT EXISTS candidatesdb\")\n",
    "cursor.execute(\"USE candidatesdb\")\n",
    "\n",
    "cursor.execute(\"\"\"\n",
    "CREATE TABLE candidates (\n",
    "    id INT NOT NULL AUTO_INCREMENT PRIMARY KEY,\n",
    "    first_name VARCHAR(50) NOT NULL,\n",
    "    last_name VARCHAR(50),\n",
    "    email VARCHAR(50) NOT NULL,\n",
    "    application_date DATE NOT NULL,\n",
    "    country VARCHAR(250) NOT NULL,\n",
    "    yoe VARCHAR(50) NOT NULL,\n",
    "    seniority VARCHAR(50) NOT NULL,\n",
    "    technology VARCHAR(50) NOT NULL,\n",
    "    code_challenge_score INT NOT NULL DEFAULT 0,\n",
    "    technical_interview_score INT NOT NULL DEFAULT 0,\n",
    "    hiredcandi BOOLEAN)\n",
    "\"\"\")\n",
    "\n",
    "with open('candidates.csv', 'r') as csvfile:\n",
    "    next(csvfile)\n",
    "    for line in csvfile:\n",
    "        first_name, last_name, email, application_date, country, yoe, seniority, technology, code_challenge_score, technical_interview_score = line.strip().split(';')\n",
    "           \n",
    "        sql = \"\"\" \n",
    "        INSERT INTO candidates \n",
    "        (first_name, last_name, email, application_date, country, yoe, seniority, \n",
    "        technology, code_challenge_score, technical_interview_score)\n",
    "        VALUES (%s, %s, %s, %s, %s, %s, %s, %s, %s, %s)\n",
    "        \"\"\"\n",
    "        cursor.execute(sql, (first_name, last_name, email, application_date, country, \n",
    "                             yoe, seniority, technology, code_challenge_score, \n",
    "                             technical_interview_score))"
   ]
  },
  {
   "cell_type": "markdown",
   "id": "030ca494",
   "metadata": {},
   "source": [
    "NOTE: A candidate is considered hired if he has both scores greater than or equal to 7 So in each query I am going to place the condition."
   ]
  },
  {
   "cell_type": "code",
   "execution_count": 3,
   "id": "431c66d5",
   "metadata": {},
   "outputs": [
    {
     "name": "stdout",
     "output_type": "stream",
     "text": [
      "The data was successfully inserted into the candidates table\n"
     ]
    }
   ],
   "source": [
    "cursor.execute(\"\"\"\n",
    "UPDATE candidates\n",
    "SET hiredcandi = TRUE\n",
    "WHERE code_challenge_score >= 7 AND technical_interview_score >= 7\n",
    "\"\"\")\n",
    "print(\"The data was successfully inserted into the candidates table\")\n",
    "conn.commit()\n",
    "conn.close()"
   ]
  }
 ],
 "metadata": {
  "kernelspec": {
   "display_name": "Python 3 (ipykernel)",
   "language": "python",
   "name": "python3"
  },
  "language_info": {
   "codemirror_mode": {
    "name": "ipython",
    "version": 3
   },
   "file_extension": ".py",
   "mimetype": "text/x-python",
   "name": "python",
   "nbconvert_exporter": "python",
   "pygments_lexer": "ipython3",
   "version": "3.11.5"
  }
 },
 "nbformat": 4,
 "nbformat_minor": 5
}
