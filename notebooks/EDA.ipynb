{
 "cells": [
  {
   "cell_type": "markdown",
   "metadata": {},
   "source": [
    "Connection database candidatesdb"
   ]
  },
  {
   "cell_type": "code",
   "execution_count": 1,
   "metadata": {},
   "outputs": [
    {
     "name": "stdout",
     "output_type": "stream",
     "text": [
      "Successful Connection\n"
     ]
    }
   ],
   "source": [
    "import configparser\n",
    "from sqlalchemy import create_engine\n",
    "import pandas as pd\n",
    "\n",
    "config = configparser.ConfigParser()\n",
    "config.read('config.ini')\n",
    "\n",
    "host = config['mysql']['host']\n",
    "user = config['mysql']['user']\n",
    "password = config['mysql']['password']\n",
    "database = config['mysql']['database']\n",
    "\n",
    "url_sql = f\"mysql+pymysql://{user}:{password}@{host}/{database}\"\n",
    "\n",
    "conn = create_engine(url_sql)\n",
    "print(\"Successful Connection\")"
   ]
  },
  {
   "cell_type": "markdown",
   "metadata": {},
   "source": [
    "Verify the connection and show the dataframe to check that the connection to the database is working correctly.\n"
   ]
  },
  {
   "cell_type": "code",
   "execution_count": 2,
   "metadata": {},
   "outputs": [
    {
     "name": "stdout",
     "output_type": "stream",
     "text": [
      "          id  first_name   last_name                       email  \\\n",
      "0          1  Bernadette   Langworth         leonard91@yahoo.com   \n",
      "1          2      Camryn    Reynolds         zelda56@hotmail.com   \n",
      "2          3       Larue      Spinka    okey_schultz41@gmail.com   \n",
      "3          4        Arch      Spinka      elvera_kulas@yahoo.com   \n",
      "4          5       Larue  Altenwerth   minnie.gislason@gmail.com   \n",
      "...      ...         ...         ...                         ...   \n",
      "49995  49996     Bethany     Shields  rocky_mitchell@hotmail.com   \n",
      "49996  49997         Era  Swaniawski    dolores.roob@hotmail.com   \n",
      "49997  49998      Martin       Lakin   savanah.stracke@gmail.com   \n",
      "49998  49999       Aliya   Abernathy  vivienne.fritsch@yahoo.com   \n",
      "49999  50000     Coleman      Wisozk   abigayle.crooks@yahoo.com   \n",
      "\n",
      "      application_date             country yoe  seniority  \\\n",
      "0           2021-02-26              Norway   2     Intern   \n",
      "1           2021-09-09              Panama  10     Intern   \n",
      "2           2020-04-14             Belarus   4  Mid-Level   \n",
      "3           2020-10-01             Eritrea  25    Trainee   \n",
      "4           2020-05-20             Myanmar  13  Mid-Level   \n",
      "...                ...                 ...  ..        ...   \n",
      "49995       2022-01-09  Dominican Republic  27    Trainee   \n",
      "49996       2020-06-02             Morocco  21       Lead   \n",
      "49997       2018-12-15              Uganda  20    Trainee   \n",
      "49998       2020-05-30      Czech Republic  20     Senior   \n",
      "49999       2022-06-13               Palau  15     Intern   \n",
      "\n",
      "                              technology  code_challenge_score  \\\n",
      "0                          Data Engineer                     3   \n",
      "1                          Data Engineer                     2   \n",
      "2                         Client Success                    10   \n",
      "3                              QA Manual                     7   \n",
      "4      Social Media Community Management                     9   \n",
      "...                                  ...                   ...   \n",
      "49995                           Security                     2   \n",
      "49996                   Game Development                     1   \n",
      "49997              System Administration                     6   \n",
      "49998            Database Administration                     0   \n",
      "49999                           Mulesoft                     3   \n",
      "\n",
      "       technical_interview_score  hiredcandi  \n",
      "0                              3         NaN  \n",
      "1                             10         NaN  \n",
      "2                              9         1.0  \n",
      "3                              1         NaN  \n",
      "4                              7         1.0  \n",
      "...                          ...         ...  \n",
      "49995                          1         NaN  \n",
      "49996                          2         NaN  \n",
      "49997                          1         NaN  \n",
      "49998                          0         NaN  \n",
      "49999                          1         NaN  \n",
      "\n",
      "[50000 rows x 12 columns]\n"
     ]
    }
   ],
   "source": [
    "query_SQL = \"SELECT * FROM candidates\"\n",
    "df_candidates = pd.read_sql(query_SQL, conn)\n",
    "conn.dispose()\n",
    "print(df_candidates)"
   ]
  },
  {
   "cell_type": "markdown",
   "metadata": {},
   "source": [
    "Exploratory Data Analysis (EDA)"
   ]
  },
  {
   "cell_type": "code",
   "execution_count": 3,
   "metadata": {},
   "outputs": [
    {
     "name": "stdout",
     "output_type": "stream",
     "text": [
      "   id  first_name   last_name                      email application_date  \\\n",
      "0   1  Bernadette   Langworth        leonard91@yahoo.com       2021-02-26   \n",
      "1   2      Camryn    Reynolds        zelda56@hotmail.com       2021-09-09   \n",
      "2   3       Larue      Spinka   okey_schultz41@gmail.com       2020-04-14   \n",
      "3   4        Arch      Spinka     elvera_kulas@yahoo.com       2020-10-01   \n",
      "4   5       Larue  Altenwerth  minnie.gislason@gmail.com       2020-05-20   \n",
      "\n",
      "   country yoe  seniority                         technology  \\\n",
      "0   Norway   2     Intern                      Data Engineer   \n",
      "1   Panama  10     Intern                      Data Engineer   \n",
      "2  Belarus   4  Mid-Level                     Client Success   \n",
      "3  Eritrea  25    Trainee                          QA Manual   \n",
      "4  Myanmar  13  Mid-Level  Social Media Community Management   \n",
      "\n",
      "   code_challenge_score  technical_interview_score  hiredcandi  \n",
      "0                     3                          3         NaN  \n",
      "1                     2                         10         NaN  \n",
      "2                    10                          9         1.0  \n",
      "3                     7                          1         NaN  \n",
      "4                     9                          7         1.0  \n"
     ]
    }
   ],
   "source": [
    "print(df_candidates.head())"
   ]
  },
  {
   "cell_type": "code",
   "execution_count": 4,
   "metadata": {},
   "outputs": [
    {
     "name": "stdout",
     "output_type": "stream",
     "text": [
      "<class 'pandas.core.frame.DataFrame'>\n",
      "RangeIndex: 50000 entries, 0 to 49999\n",
      "Data columns (total 12 columns):\n",
      " #   Column                     Non-Null Count  Dtype  \n",
      "---  ------                     --------------  -----  \n",
      " 0   id                         50000 non-null  int64  \n",
      " 1   first_name                 50000 non-null  object \n",
      " 2   last_name                  50000 non-null  object \n",
      " 3   email                      50000 non-null  object \n",
      " 4   application_date           50000 non-null  object \n",
      " 5   country                    50000 non-null  object \n",
      " 6   yoe                        50000 non-null  object \n",
      " 7   seniority                  50000 non-null  object \n",
      " 8   technology                 50000 non-null  object \n",
      " 9   code_challenge_score       50000 non-null  int64  \n",
      " 10  technical_interview_score  50000 non-null  int64  \n",
      " 11  hiredcandi                 6698 non-null   float64\n",
      "dtypes: float64(1), int64(3), object(8)\n",
      "memory usage: 4.6+ MB\n",
      "None\n"
     ]
    }
   ],
   "source": [
    "print(df_candidates.info())"
   ]
  },
  {
   "cell_type": "code",
   "execution_count": 5,
   "metadata": {},
   "outputs": [
    {
     "name": "stdout",
     "output_type": "stream",
     "text": [
      "          id  code_challenge_score  technical_interview_score  hiredcandi\n",
      "count  50000                 50000                      50000        6698\n",
      "mean   25000                     4                          5           1\n",
      "std    14433                     3                          3           0\n",
      "min        1                     0                          0           1\n",
      "25%    12500                     2                          2           1\n",
      "50%    25000                     5                          5           1\n",
      "75%    37500                     8                          8           1\n",
      "max    50000                    10                         10           1\n"
     ]
    }
   ],
   "source": [
    "print(df_candidates.describe().astype(int))"
   ]
  },
  {
   "cell_type": "code",
   "execution_count": 6,
   "metadata": {},
   "outputs": [
    {
     "name": "stdout",
     "output_type": "stream",
     "text": [
      "Número de valores nulos en cada columna:\n",
      "\n",
      "id                               0\n",
      "first_name                       0\n",
      "last_name                        0\n",
      "email                            0\n",
      "application_date                 0\n",
      "country                          0\n",
      "yoe                              0\n",
      "seniority                        0\n",
      "technology                       0\n",
      "code_challenge_score             0\n",
      "technical_interview_score        0\n",
      "hiredcandi                   43302\n",
      "dtype: int64\n"
     ]
    }
   ],
   "source": [
    "print(f\"Number of null values in each column:\\n\\n{df_candidates.isnull().sum()}\")"
   ]
  }
 ],
 "metadata": {
  "kernelspec": {
   "display_name": "base",
   "language": "python",
   "name": "python3"
  },
  "language_info": {
   "codemirror_mode": {
    "name": "ipython",
    "version": 3
   },
   "file_extension": ".py",
   "mimetype": "text/x-python",
   "name": "python",
   "nbconvert_exporter": "python",
   "pygments_lexer": "ipython3",
   "version": "3.11.5"
  }
 },
 "nbformat": 4,
 "nbformat_minor": 2
}
